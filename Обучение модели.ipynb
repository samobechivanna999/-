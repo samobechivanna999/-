{
 "cells": [
  {
   "cell_type": "code",
   "execution_count": 57,
   "id": "eba4746e-8016-48b5-9e66-31dfa041894b",
   "metadata": {},
   "outputs": [],
   "source": [
    "import pandas as pd\n",
    "import numpy as np\n",
    "import lightgbm as lgb\n",
    "import joblib\n",
    "from sklearn.model_selection import train_test_split\n",
    "from sklearn.preprocessing import StandardScaler\n",
    "from sklearn.metrics import roc_auc_score\n",
    "\n",
    "# Фиксируем seed для воспроизводимости\n",
    "RANDOM_STATE = 42\n",
    "np.random.seed(RANDOM_STATE)\n",
    "\n",
    "# Загружаем данные\n",
    "train = pd.read_parquet('train.parquet')"
   ]
  },
  {
   "cell_type": "code",
   "execution_count": 58,
   "id": "b59f515a-4e2a-435a-b944-54d1ee3c63f4",
   "metadata": {},
   "outputs": [
    {
     "name": "stdout",
     "output_type": "stream",
     "text": [
      "\n",
      "Обучающие признаки:\n",
      "       mean       std   max       min    median      skew  kurtosis  length  \\\n",
      "0  0.023710  1.337272  3.49 -4.840000 -0.110000 -0.311759  2.154785      62   \n",
      "1 -0.310777  1.556337  2.92 -3.534409 -0.274409 -0.012368  0.025976      45   \n",
      "2 -0.046042  1.065023  2.61 -1.950000 -0.145000  0.389424 -0.167206      48   \n",
      "3 -0.130000  1.158201  2.49 -2.220000 -0.345000  0.116053 -0.809032      48   \n",
      "4 -0.270536  1.270529  2.87 -2.500000 -0.475000  0.409712 -0.527906      56   \n",
      "\n",
      "      id  label  \n",
      "0  19114    0.0  \n",
      "1  22769    1.0  \n",
      "2  76935    0.0  \n",
      "3  66297    0.0  \n",
      "4   2191    0.0  \n"
     ]
    }
   ],
   "source": [
    "# Функция для вычисления признаков\n",
    "def compute_features(dates_array, values_array):\n",
    "    values = np.array(values_array)\n",
    "    features = {}\n",
    "    features['mean'] = np.mean(values)\n",
    "    features['std'] = np.std(values)\n",
    "    features['max'] = np.max(values)\n",
    "    features['min'] = np.min(values)\n",
    "    features['median'] = np.median(values)\n",
    "    features['skew'] = pd.Series(values).skew()\n",
    "    features['kurtosis'] = pd.Series(values).kurtosis()\n",
    "    features['length'] = len(values)\n",
    "    return features\n",
    "\n",
    "# Вычисляем признаки для обучающей выборки\n",
    "train_features_list = []\n",
    "for idx, row in train.iterrows():\n",
    "    features = compute_features(row['dates'], row['values'])\n",
    "    features['id'] = row['id']\n",
    "    features['label'] = row['label']\n",
    "    train_features_list.append(features)\n",
    "\n",
    "train_features_df = pd.DataFrame(train_features_list)\n",
    "\n",
    "print('\\nОбучающие признаки:')\n",
    "print(train_features_df.head())"
   ]
  },
  {
   "cell_type": "code",
   "execution_count": 59,
   "id": "405f2353-d576-41f4-ad87-74c126423860",
   "metadata": {},
   "outputs": [],
   "source": [
    "# Разделяем признаки и целевую переменную\n",
    "X_train = train_features_df.drop(columns=['id', 'label'])\n",
    "y_train = train_features_df['label']\n",
    "\n",
    "# Масштабирование признаков\n",
    "scaler = StandardScaler()\n",
    "X_train_scaled = scaler.fit_transform(X_train)\n",
    "\n",
    "# Разбиение на обучающую и валидационную выборки\n",
    "X_tr, X_val, y_tr, y_val = train_test_split(\n",
    "    X_train_scaled, y_train, test_size=0.2, random_state=RANDOM_STATE, stratify=y_train\n",
    ")\n"
   ]
  },
  {
   "cell_type": "code",
   "execution_count": 60,
   "id": "b3915ef0-c654-45a0-85ad-4dc987ede1be",
   "metadata": {},
   "outputs": [
    {
     "name": "stdout",
     "output_type": "stream",
     "text": [
      "[LightGBM] [Warning] Provided parameters constrain tree depth (max_depth=5) without explicitly setting 'num_leaves'. This can lead to underfitting. To resolve this warning, pass 'num_leaves' (<=32) in params. Alternatively, pass (max_depth=-1) and just use 'num_leaves' to constrain model complexity.\n",
      "[LightGBM] [Warning] Provided parameters constrain tree depth (max_depth=5) without explicitly setting 'num_leaves'. This can lead to underfitting. To resolve this warning, pass 'num_leaves' (<=32) in params. Alternatively, pass (max_depth=-1) and just use 'num_leaves' to constrain model complexity.\n",
      "[LightGBM] [Info] Number of positive: 17744, number of negative: 46256\n",
      "[LightGBM] [Info] Auto-choosing col-wise multi-threading, the overhead of testing was 0.003051 seconds.\n",
      "You can set `force_col_wise=true` to remove the overhead.\n",
      "[LightGBM] [Info] Total Bins 1848\n",
      "[LightGBM] [Info] Number of data points in the train set: 64000, number of used features: 8\n",
      "[LightGBM] [Warning] Provided parameters constrain tree depth (max_depth=5) without explicitly setting 'num_leaves'. This can lead to underfitting. To resolve this warning, pass 'num_leaves' (<=32) in params. Alternatively, pass (max_depth=-1) and just use 'num_leaves' to constrain model complexity.\n",
      "[LightGBM] [Info] [binary:BoostFromScore]: pavg=0.277250 -> initscore=-0.958144\n",
      "[LightGBM] [Info] Start training from score -0.958144\n",
      "[LightGBM] [Warning] No further splits with positive gain, best gain: -inf\n",
      "[LightGBM] [Warning] No further splits with positive gain, best gain: -inf\n",
      "[LightGBM] [Warning] No further splits with positive gain, best gain: -inf\n",
      "[LightGBM] [Warning] No further splits with positive gain, best gain: -inf\n",
      "[LightGBM] [Warning] No further splits with positive gain, best gain: -inf\n",
      "[LightGBM] [Warning] No further splits with positive gain, best gain: -inf\n",
      "[LightGBM] [Warning] No further splits with positive gain, best gain: -inf\n",
      "[LightGBM] [Warning] No further splits with positive gain, best gain: -inf\n",
      "[LightGBM] [Warning] No further splits with positive gain, best gain: -inf\n",
      "[LightGBM] [Warning] No further splits with positive gain, best gain: -inf\n",
      "[LightGBM] [Warning] No further splits with positive gain, best gain: -inf\n",
      "[LightGBM] [Warning] No further splits with positive gain, best gain: -inf\n",
      "[LightGBM] [Warning] No further splits with positive gain, best gain: -inf\n",
      "[LightGBM] [Warning] No further splits with positive gain, best gain: -inf\n",
      "[LightGBM] [Warning] No further splits with positive gain, best gain: -inf\n",
      "[LightGBM] [Warning] No further splits with positive gain, best gain: -inf\n",
      "[LightGBM] [Warning] No further splits with positive gain, best gain: -inf\n",
      "[LightGBM] [Warning] No further splits with positive gain, best gain: -inf\n",
      "[LightGBM] [Warning] No further splits with positive gain, best gain: -inf\n",
      "[LightGBM] [Warning] No further splits with positive gain, best gain: -inf\n",
      "[LightGBM] [Warning] No further splits with positive gain, best gain: -inf\n",
      "[LightGBM] [Warning] No further splits with positive gain, best gain: -inf\n",
      "[LightGBM] [Warning] No further splits with positive gain, best gain: -inf\n",
      "[LightGBM] [Warning] No further splits with positive gain, best gain: -inf\n",
      "[LightGBM] [Warning] No further splits with positive gain, best gain: -inf\n",
      "[LightGBM] [Warning] No further splits with positive gain, best gain: -inf\n",
      "[LightGBM] [Warning] No further splits with positive gain, best gain: -inf\n",
      "[LightGBM] [Warning] No further splits with positive gain, best gain: -inf\n",
      "[LightGBM] [Warning] No further splits with positive gain, best gain: -inf\n",
      "[LightGBM] [Warning] No further splits with positive gain, best gain: -inf\n",
      "[LightGBM] [Warning] No further splits with positive gain, best gain: -inf\n",
      "[LightGBM] [Warning] No further splits with positive gain, best gain: -inf\n",
      "[LightGBM] [Warning] No further splits with positive gain, best gain: -inf\n",
      "[LightGBM] [Warning] No further splits with positive gain, best gain: -inf\n",
      "[LightGBM] [Warning] No further splits with positive gain, best gain: -inf\n",
      "[LightGBM] [Warning] No further splits with positive gain, best gain: -inf\n",
      "[LightGBM] [Warning] No further splits with positive gain, best gain: -inf\n",
      "[LightGBM] [Warning] No further splits with positive gain, best gain: -inf\n",
      "[LightGBM] [Warning] No further splits with positive gain, best gain: -inf\n",
      "[LightGBM] [Warning] No further splits with positive gain, best gain: -inf\n",
      "[LightGBM] [Warning] No further splits with positive gain, best gain: -inf\n",
      "[LightGBM] [Warning] No further splits with positive gain, best gain: -inf\n",
      "[LightGBM] [Warning] No further splits with positive gain, best gain: -inf\n",
      "[LightGBM] [Warning] No further splits with positive gain, best gain: -inf\n",
      "[LightGBM] [Warning] No further splits with positive gain, best gain: -inf\n",
      "[LightGBM] [Warning] No further splits with positive gain, best gain: -inf\n",
      "[LightGBM] [Warning] No further splits with positive gain, best gain: -inf\n",
      "[LightGBM] [Warning] No further splits with positive gain, best gain: -inf\n",
      "[LightGBM] [Warning] No further splits with positive gain, best gain: -inf\n",
      "[LightGBM] [Warning] No further splits with positive gain, best gain: -inf\n",
      "[LightGBM] [Warning] No further splits with positive gain, best gain: -inf\n",
      "[LightGBM] [Warning] No further splits with positive gain, best gain: -inf\n",
      "[LightGBM] [Warning] No further splits with positive gain, best gain: -inf\n",
      "[LightGBM] [Warning] No further splits with positive gain, best gain: -inf\n",
      "[LightGBM] [Warning] No further splits with positive gain, best gain: -inf\n",
      "[LightGBM] [Warning] No further splits with positive gain, best gain: -inf\n",
      "[LightGBM] [Warning] No further splits with positive gain, best gain: -inf\n",
      "[LightGBM] [Warning] No further splits with positive gain, best gain: -inf\n",
      "[LightGBM] [Warning] No further splits with positive gain, best gain: -inf\n",
      "[LightGBM] [Warning] No further splits with positive gain, best gain: -inf\n",
      "[LightGBM] [Warning] No further splits with positive gain, best gain: -inf\n"
     ]
    }
   ],
   "source": [
    "# Обучение модели\n",
    "train_data = lgb.Dataset(X_tr, label=y_tr)\n",
    "val_data = lgb.Dataset(X_val, label=y_val, reference=train_data)\n",
    "\n",
    "params = {\n",
    "    'objective': 'binary',\n",
    "    'metric': 'auc',\n",
    "    'boosting_type': 'gbdt',\n",
    "    'random_state': RANDOM_STATE,\n",
    "    'max_depth': 5, # установка глубины\n",
    "    'is_unbalance': True  # учитываем дисбаланс классов\n",
    "}\n",
    "\n",
    "model = lgb.train(\n",
    "    params,\n",
    "    train_data,\n",
    "    valid_sets=[train_data, val_data],\n",
    "    num_boost_round=100\n",
    ")\n"
   ]
  },
  {
   "cell_type": "code",
   "execution_count": 61,
   "id": "6ce8e866-fc87-4bb3-8796-c63395982952",
   "metadata": {},
   "outputs": [
    {
     "name": "stdout",
     "output_type": "stream",
     "text": [
      "\n",
      "ROC AUC на валидационной выборке: 0.8314\n"
     ]
    }
   ],
   "source": [
    "# Предсказание и расчет ROC AUC на валидационной выборке\n",
    "y_val_pred = model.predict(X_val, num_iteration=model.best_iteration)\n",
    "roc_auc = roc_auc_score(y_val, y_val_pred)\n",
    "print(f'\\nROC AUC на валидационной выборке: {roc_auc:.4f}')"
   ]
  },
  {
   "cell_type": "code",
   "execution_count": 62,
   "id": "f4d25ad0-7e79-4b13-809e-987b12b6d790",
   "metadata": {},
   "outputs": [
    {
     "name": "stdout",
     "output_type": "stream",
     "text": [
      "Сохранено\n"
     ]
    }
   ],
   "source": [
    "# сохранение модели\n",
    "joblib.dump(model, 'trained_model.pkl')\n",
    "joblib.dump(scaler, 'scaler.pkl')\n",
    "print('Сохранено')"
   ]
  },
  {
   "cell_type": "code",
   "execution_count": null,
   "id": "b39d0774-7309-4ec6-8e14-7ccb7bade320",
   "metadata": {},
   "outputs": [],
   "source": []
  },
  {
   "cell_type": "code",
   "execution_count": null,
   "id": "1c9bbbc0-c630-49f3-934f-1e7475bb2744",
   "metadata": {},
   "outputs": [],
   "source": []
  }
 ],
 "metadata": {
  "kernelspec": {
   "display_name": "Python 3 (ipykernel)",
   "language": "python",
   "name": "python3"
  },
  "language_info": {
   "codemirror_mode": {
    "name": "ipython",
    "version": 3
   },
   "file_extension": ".py",
   "mimetype": "text/x-python",
   "name": "python",
   "nbconvert_exporter": "python",
   "pygments_lexer": "ipython3",
   "version": "3.12.7"
  }
 },
 "nbformat": 4,
 "nbformat_minor": 5
}

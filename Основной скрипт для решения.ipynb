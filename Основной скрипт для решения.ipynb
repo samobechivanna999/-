{
 "cells": [
  {
   "cell_type": "code",
   "execution_count": 1,
   "id": "3b6eff77-d59a-4f74-bbad-d6aca0e8205f",
   "metadata": {
    "scrolled": true
   },
   "outputs": [],
   "source": [
    "import pandas as pd\n",
    "import numpy as np\n",
    "import joblib\n",
    "import lightgbm as lgb\n",
    "\n",
    "# Загружаем тестовые данные\n",
    "test = pd.read_parquet('test.parquet')"
   ]
  },
  {
   "cell_type": "code",
   "execution_count": 2,
   "id": "e3e8a482-c2da-4fd7-8a03-73c39dcf433e",
   "metadata": {},
   "outputs": [],
   "source": [
    "# Функция для вычисления признаков (должна быть идентична той, что в обучении)\n",
    "def compute_features(dates_array, values_array):\n",
    "    values = np.array(values_array)\n",
    "    features = {}\n",
    "    features['mean'] = np.mean(values)\n",
    "    features['std'] = np.std(values)\n",
    "    features['max'] = np.max(values)\n",
    "    features['min'] = np.min(values)\n",
    "    features['median'] = np.median(values)\n",
    "    features['skew'] = pd.Series(values).skew()\n",
    "    features['kurtosis'] = pd.Series(values).kurtosis()\n",
    "    features['length'] = len(values)\n",
    "    return features\n",
    "\n",
    "# Вычисляем признаки для тестовой выборки\n",
    "test_features_list = []\n",
    "for idx, row in test.iterrows():\n",
    "    features = compute_features(row['dates'], row['values'])\n",
    "    features['id'] = row['id']\n",
    "    test_features_list.append(features)\n",
    "\n",
    "test_features_df = pd.DataFrame(test_features_list)"
   ]
  },
  {
   "cell_type": "code",
   "execution_count": 3,
   "id": "5828c45a-fb33-41d6-8e68-64b1e4bd8dec",
   "metadata": {},
   "outputs": [
    {
     "name": "stdout",
     "output_type": "stream",
     "text": [
      "\n",
      "Тестовые признаки:\n",
      "       mean       std   max   min  median      skew  kurtosis  length     id\n",
      "0  0.037895  1.505985  3.13 -3.14   -0.01  0.067832 -0.342699      57   6125\n",
      "1 -0.016909  1.249663  3.85 -2.24   -0.08  0.899283  1.058050      55  26781\n",
      "2 -0.039569  1.000514  3.46 -1.45   -0.16  0.991187  1.296155      55  13333\n",
      "3  0.159231  1.313112  3.43 -2.73    0.11  0.392145  0.022481      78  53218\n",
      "4 -0.094705  1.243279  2.57 -2.66   -0.09 -0.033056 -0.479235      65  84204\n"
     ]
    }
   ],
   "source": [
    "print('\\nТестовые признаки:')\n",
    "print(test_features_df.head())"
   ]
  },
  {
   "cell_type": "code",
   "execution_count": 4,
   "id": "3b57323e-03f2-45b0-b0c6-152cb90b937b",
   "metadata": {},
   "outputs": [],
   "source": [
    "# Загружаем сохраненную модель и масштабировщик\n",
    "model = joblib.load('trained_model.pkl')\n",
    "scaler = joblib.load('scaler.pkl')"
   ]
  },
  {
   "cell_type": "code",
   "execution_count": 5,
   "id": "07b71e96-40e6-4251-b9d2-0da4605c3f54",
   "metadata": {},
   "outputs": [
    {
     "name": "stdout",
     "output_type": "stream",
     "text": [
      "Submission файл сохранен как submission.csv\n"
     ]
    }
   ],
   "source": [
    "# Подготовка данных для предсказания\n",
    "X_test = test_features_df.drop(columns=['id'])\n",
    "X_test_scaled = scaler.transform(X_test)\n",
    "\n",
    "# Предсказание на тестовой выборке\n",
    "test_pred_prob = model.predict(X_test_scaled, num_iteration=model.best_iteration)\n",
    "\n",
    "# Формирование и сохранение submission файла\n",
    "submission = pd.DataFrame({'id': test_features_df['id'], 'score': test_pred_prob})\n",
    "submission.to_csv('submission.csv', index=False)\n",
    "\n",
    "print('Submission файл сохранен как submission.csv')"
   ]
  },
  {
   "cell_type": "code",
   "execution_count": null,
   "id": "6b2205a0-8e06-420f-a7d4-fd278b6f1ed3",
   "metadata": {},
   "outputs": [],
   "source": []
  }
 ],
 "metadata": {
  "kernelspec": {
   "display_name": "Python 3 (ipykernel)",
   "language": "python",
   "name": "python3"
  },
  "language_info": {
   "codemirror_mode": {
    "name": "ipython",
    "version": 3
   },
   "file_extension": ".py",
   "mimetype": "text/x-python",
   "name": "python",
   "nbconvert_exporter": "python",
   "pygments_lexer": "ipython3",
   "version": "3.12.7"
  }
 },
 "nbformat": 4,
 "nbformat_minor": 5
}
